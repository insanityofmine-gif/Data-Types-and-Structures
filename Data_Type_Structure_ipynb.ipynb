{
  "nbformat": 4,
  "nbformat_minor": 0,
  "metadata": {
    "colab": {
      "provenance": []
    },
    "kernelspec": {
      "name": "python3",
      "display_name": "Python 3"
    },
    "language_info": {
      "name": "python"
    }
  },
  "cells": [
    {
      "cell_type": "markdown",
      "source": [
        "1. What are data structures, and why are they important?\n",
        "\n",
        "  - Data Structure is a way of organizing and storing data so that it can be accessed easily and manipulated effeciently. That's how Data Sturucture is important. Example: String, List, Tuple, Set, Array etc."
      ],
      "metadata": {
        "id": "vkeairJ-zvYO"
      }
    },
    {
      "cell_type": "markdown",
      "source": [
        "2. Explain the difference between mutable and immutable data types with examples\n",
        "    - Mutable data types are those whose values or contents can be changed, modified, or updated after they have been initialized.\n",
        "    Examples : Lists & Dictionaries"
      ],
      "metadata": {
        "id": "CyMOh4NGzJyi"
      }
    },
    {
      "cell_type": "code",
      "source": [
        "#Lists (Python): Elements can be added, removed, or changed.\n",
        "# create a list\n",
        "my_list = [1, 2, 3]\n",
        "my_list.append(4)  # Modifies my_list in place\n",
        "print(my_list) # Output: [1, 2, 3, 4]\n",
        "\n",
        "#Dictionaries (Python): Key-value pairs can be added, removed, or updated.\n",
        "my_dict = {\"a\": 1, \"b\": 2}\n",
        "my_dict[\"c\"] = 3  # Adds a new key-value pair\n",
        "print(my_dict) # Output: {'a': 1, 'b': 2, 'c': 3}"
      ],
      "metadata": {
        "colab": {
          "base_uri": "https://localhost:8080/"
        },
        "id": "XmT1-Yz40cng",
        "outputId": "c7fd11a1-7626-471a-a732-541bf7471b78"
      },
      "execution_count": null,
      "outputs": [
        {
          "output_type": "stream",
          "name": "stdout",
          "text": [
            "[1, 2, 3, 4]\n",
            "{'a': 1, 'b': 2, 'c': 3}\n"
          ]
        }
      ]
    },
    {
      "cell_type": "markdown",
      "source": [
        "2. Explain the difference between mutable and immutable data types with examples\n",
        "    - Immutable data types are those whose values or contents cannot be changed once they have been created. Any operation that appears to \"modify\" an immutable object actually creates a new object with the desired changes.\n",
        "    Examples : Strings & Tuples"
      ],
      "metadata": {
        "id": "Pgigx4S34LDy"
      }
    },
    {
      "cell_type": "code",
      "source": [
        "#Characters within a string cannot be changed.\n",
        "my_string = \"hello\"\n",
        "# my_string[0] = \"H\"  # This would raise a TypeError\n",
        "new_string = \"H\" + my_string[1:] # Creates a new string\n",
        "print(new_string) # Output: Hello\n",
        "\n",
        "#Elements within a tuple cannot be changed, added, or removed.\n",
        "my_tuple = (1, 2, 3)\n",
        "# my_tuple[0] = 4  # This would raise a TypeError\n",
        "new_tuple = my_tuple + (4,) # Creates a new tuple\n",
        "print(new_tuple) # Output: (1, 2, 3, 4)"
      ],
      "metadata": {
        "colab": {
          "base_uri": "https://localhost:8080/"
        },
        "id": "ZpfDYu6L4i3e",
        "outputId": "bbba19f1-a350-4cce-ee33-1de3dd5960a7"
      },
      "execution_count": null,
      "outputs": [
        {
          "output_type": "stream",
          "name": "stdout",
          "text": [
            "Hello\n",
            "(1, 2, 3, 4)\n"
          ]
        }
      ]
    },
    {
      "cell_type": "markdown",
      "source": [
        "3. What are the main differences between lists and tuples in Python?\n",
        "    - List : List is an orderd collection of hetrogenious data and elements that can be of any type. Lists are mutable(can be modified) data type.\n",
        "    Example:\n",
        "\n",
        "          my_list = [1, 2, 3]\n",
        "\n",
        "          my_list.append(4)  # Modifies my_list in place\n",
        "      \n",
        "          print(my_list) # Output: [1, 2, 3, 4]\n",
        "\n",
        "    - Tuples : Tuples are immutable(cannot be modified). If you don't want to change data , You can use tuples to store data like (Adhaar, ATM, EmployeeID). Tuples cannot be modified after creation\n",
        "    Example :\n",
        "\n",
        "          my_tuple = (1, 2, 3)\n",
        "\n",
        "          my_tuple[0] = 4  # This would raise a TypeError : 'tuple' object does not support item assignment"
      ],
      "metadata": {
        "id": "JCQL4uze6Y4m"
      }
    },
    {
      "cell_type": "markdown",
      "source": [
        "4. Describe how dictionaries store data\n",
        "    - Dictionaries are data structure that can store data as key value pair, keys are unique and immutable.\n",
        "\n",
        "    Note : Dictionaries are unorderd but from python 3.7 version, dictionaries retain order of insertion, That means if you iterate over dictionary, the items will be returned in the order they were added.\n",
        "\n",
        "    Example:\n",
        "\n",
        "    person = {\n",
        "    \"name\": \"Alice\",\n",
        "    \"age\": 25,\n",
        "    \"city\": \"New York\"\n",
        "    }\n",
        "\n",
        "    Here:\n",
        "\n",
        "    \"name\", \"age\", and \"city\" are keys\n",
        "\n",
        "    \"Alice\", 25, and \"New York\" are their corresponding values\n",
        "\n"
      ],
      "metadata": {
        "id": "idKBdvUIASqE"
      }
    },
    {
      "cell_type": "markdown",
      "source": [
        "5. Why might you use a set instead of a list in Python?\n",
        "      - A set only stores unique items, that means sets does't allow duplicate elements. Sets are unorderd collection of elements so, indexing will not work here.\n",
        "      Example :\n",
        "\n",
        "      numbers = [1, 2, 2, 3, 4, 4]\n",
        "\n",
        "      unique_numbers = set(numbers)\n",
        "\n",
        "      print(unique_numbers)  # Output: {1, 2, 3, 4}"
      ],
      "metadata": {
        "id": "uYzni-F4D4Xv"
      }
    },
    {
      "cell_type": "markdown",
      "source": [
        "6. What is a string in Python, and how is it different from a list?\n",
        "    - A string is a sequence of characters, like letters, digits, symbols, or spaces, enclosed in quotes. String is immutable.\n",
        "    Example :\n",
        "\n",
        "    my_string = \"Hello, world!\"\n",
        "\n",
        "    - Lists are mutable and can be update. A list is an ordered collection of items (of any type), enclosed in square brackets [].\n",
        "    Example :\n",
        "    \n",
        "    my_list = [1, \"hello\", 3.14, True]"
      ],
      "metadata": {
        "id": "6PnCPMFLHeL4"
      }
    },
    {
      "cell_type": "markdown",
      "source": [
        "7. How do tuples ensure data integrity in Python?\n",
        "    - Tuples are immutable, once created, a tuple can not be changed like we can not add or remove item, change the value of an item and can not sort or reverse it in place. This protects the data from being modified accidentally or intentionally. That's how tuples ensure data integrity.\n",
        "    Example:\n",
        "\n",
        "    data = (42, \"admin\", True)\n",
        "\n",
        "    data[0] = 100\n",
        "    \n",
        "    TypeError: 'tuple' object does not support item assignment\n"
      ],
      "metadata": {
        "id": "gyZr7kOUPq8r"
      }
    },
    {
      "cell_type": "markdown",
      "source": [
        "8. What is a hash table, and how does it relate to dictionaries in Python?\n",
        "  - A hash table is a data structure that stores key value pairs. It uses a     hash function to convert a key into an index in an internal array. The value is stored at that index, which allows fast lookup, insertion, and deletion.\n",
        "  For Example\n",
        "\n",
        "  my_dict = {\"name\": \"Alice\", \"age\": 25}\n",
        "\n",
        "  print(my_dict[\"name\"])    #Lookup using key (hashing under the hood)\n",
        "  \n",
        "  my_dict[\"city\"] = \"Delhi\"  #Insert new key-value\n",
        "\n"
      ],
      "metadata": {
        "id": "JDcb50THE2C3"
      }
    },
    {
      "cell_type": "markdown",
      "source": [
        "9.  Can lists contain different data types in Python?\n",
        "  - Yes, lists can contain elements of different data types because Python lists are dynamic and not type-restricted.\n"
      ],
      "metadata": {
        "id": "aqZlFjgIGVDb"
      }
    },
    {
      "cell_type": "markdown",
      "source": [
        "10.  Explain why strings are immutable in Python\n",
        "  - Strings are immutable in nature i.e. you cannot change the content of a string after it is created. If you try to modify a string, Python creates a new string object instead of changing the original one.\n",
        "\n",
        "    \n",
        "    s = \"Sanjay\"\n",
        "    print(s) # Sanjay\n",
        "    s[0] = \"F\"\n",
        "    print(s) # Type error"
      ],
      "metadata": {
        "id": "7nmV9RXGHTh7"
      }
    },
    {
      "cell_type": "markdown",
      "source": [
        "11.  What advantages do dictionaries offer over lists for certain tasks?\n",
        "  - Dictionaries are like the Swiss Army knives of Python data structures—they shine in tasks where fast lookups, clear associations, and flexible data access are key. Here's why they often outperform lists in certain scenarios:\n",
        "\n",
        "  a. Fast Lookups (O(1) vs O(n))\n",
        "  \n",
        "  b.Key-Value Mappin\n",
        "\n",
        "  c. No Need to Remember Indexes\n",
        "\n",
        "  d. Faster Updates & Deletions by Key\n",
        "\n",
        "  e. Better for Sparse Data\n"
      ],
      "metadata": {
        "id": "OJ8OzegiIRAc"
      }
    },
    {
      "cell_type": "markdown",
      "source": [
        "12.  Describe a scenario where using a tuple would be preferable over a list.\n",
        "  - Tuples may seem like the quieter sibling of lists, but they have their own superpowers—especially when you want fixed, reliable data. Tuples are immutable, so they protect data from being modified accidentally.\n",
        "  \n",
        "  Example: Storing fixed GPS coordinates (28.6139, 77.2090) for a city.\n",
        "\n",
        "  \n",
        "  places = {\n",
        "    \n",
        "    \n",
        "    (28.6139, 77.2090): \"Delhi\",\n",
        "    (40.7128, -74.0060): \"Canada\"\n",
        "      \n",
        "      }\n",
        "\n"
      ],
      "metadata": {
        "id": "4H5qOcXPJKeL"
      }
    },
    {
      "cell_type": "markdown",
      "source": [
        "13.  How do sets handle duplicate values in Python?\n",
        "  - Sets in Python are like the bouncers of the data structure world—they automatically reject duplicates at the door. - Sets only store unique elements, so even if you try to add the same item multiple times, it will only appear once.\n",
        "  \n",
        "      \n",
        "      Example:\n",
        "\n",
        "    num= {1,2,3,4,4,3,4,2,1,2,3,2,1,3,2,1,2,2,3,4}\n",
        "    print(num)  #output:  {1,2,3,4}\n",
        "\n",
        "\n"
      ],
      "metadata": {
        "id": "MSF1yCLAK8zD"
      }
    },
    {
      "cell_type": "markdown",
      "source": [
        "14.  How does the “in” keyword work differently for lists and dictionaries?\n",
        "  - The \"in\" keyword is a versatile little operator in Python, but it behaves quite differently depending on the data structure you're working with.- It performs a linear search, meaning it checks each item one by one.\n",
        "\n",
        "      \n",
        "    Example for list:\n",
        "\n",
        "    fruits = [\"apple\", \"banana\", \"cherry\"]\n",
        "    print(\"banana\" in fruits)  # True\n",
        "    print(\"grape\" in fruits)   # False\n",
        "\n",
        "\n",
        "    Example for dictionary:\n",
        "\n",
        "    my_dict = {\"name\": \"Alice\", \"age\": 25}\n",
        "    print(\"name\" in my_dict)    # True (key check)\n",
        "    print(\"Alice\" in my_dict)   # False (values not checked)\n"
      ],
      "metadata": {
        "id": "XV1E0ghBL3hm"
      }
    },
    {
      "cell_type": "markdown",
      "source": [
        "15.  Can you modify the elements of a tuple? Explain why or why not?\n",
        "  - No, we cannot modify the elements of a tuple in Python. And that's not a bug, it is a feature. Tuple are immutable, Once a tuple is created, its contents are locked in. You cannot change, add, or remove elements.\n",
        "\n",
        "    \n",
        "    t = (1, 2, 3)\n",
        "    t[0] = 99  # TypeError: 'tuple' object does not support item assignment\n",
        "\n",
        " - Mutable elements in Tuble:\n",
        "\n",
        "    \n",
        "    t = ([1, 2], \"hello\")\n",
        "    t[0].append(3)  # This works\n",
        "    print(t)        # Output: ([1, 2, 3], 'hello')"
      ],
      "metadata": {
        "id": "CktW0FM0NxLf"
      }
    },
    {
      "cell_type": "markdown",
      "source": [
        "16.  What is a nested dictionary, and give an example of its use case?\n",
        "  - A nested dictionary in Python is a dictionary where values themselves are dictionaries. It is like having a dictionary inside another dictionary—perfect for representing complex, hierarchical data.\n",
        "\n",
        "  - Example\n",
        "\n",
        "  \n",
        "    students = {\n",
        "    \"Sanjay\": {\n",
        "        \"age\": 17,\n",
        "        \"grades\": {\"math\": 88, \"science\": 92},\n",
        "        \"contact\": {\"email\": \"sanjay@gmail.com\", \"phone\": \"9876543210\"}\n",
        "    },\n",
        "    \"Aisha\": {\n",
        "        \"age\": 16,\n",
        "        \"grades\": {\"math\": 95, \"science\": 89},\n",
        "        \"contact\": {\"email\": \"aisha@gmail.com\", \"phone\": \"9123456780\"}\n",
        "    }\n",
        "    }\n",
        "\n"
      ],
      "metadata": {
        "id": "xBsQvJUyPmkA"
      }
    },
    {
      "cell_type": "markdown",
      "source": [
        "17.  Describe the time complexity of accessing elements in a dictionary.\n",
        "  - Accessing elements in a Python dictionary is impressively fast—thanks to its underlying hash table implementation. - When you retrieve a value using a key (dict[key]), Python uses the key's hash to jump directly to the correct location in memory. - This means the lookup is done in constant time, regardless of the dictionary's size.\n",
        "\n",
        "\n",
        "    user = {\"name\": \"Sanjay\", \"age\": 30}\n",
        "    print(user[\"age\"])  # O(1) access\n",
        "\n",
        "\n",
        "\n",
        "\n",
        "\n"
      ],
      "metadata": {
        "id": "94QgWuGMQHpL"
      }
    },
    {
      "cell_type": "markdown",
      "source": [
        "18.  In what situations are lists preferred over dictionaries.\n",
        "  - Lists are the go-to choice when you need a simple, ordered collection of items—especially when the position of each item matters more than its label.\n",
        "  - Lists preserve the order of insertion, which is crucial when working with sequences like steps in a process, time-series data, or ordered tasks.\n",
        "  -Dictionaries didn't guarantee order, though they do now—but lists are still more intuitive for ordered data.\n",
        "\n",
        "\n",
        "  1. Order Matters\n",
        "\n",
        "  Lists maintain insertion order (like dictionaries do in Python 3.7+, but lists are more natural for ordered sequences).\n",
        "\n",
        "  Example: Keeping track of steps in a recipe:\n",
        "\n",
        "      \n",
        "      steps = [\"Mix flour\", \"Add water\", \"Knead dough\", \"Bake\"]\n",
        "\n",
        "  2. Sequential / Index-Based Access\n",
        "\n",
        "  Lists are best when you need to access elements by position (index).\n",
        "\n",
        "    \n",
        "    scores = [90, 85, 78]\n",
        "    print(scores[1])  # 85\n",
        "\n",
        "\n",
        "\n"
      ],
      "metadata": {
        "id": "eanMnfENQmHr"
      }
    },
    {
      "cell_type": "markdown",
      "source": [
        "19.  Why are dictionaries considered unordered, and how does that affect data retrieval?\n",
        "  - Dictionaries in Python were traditionally considered unordered because they didn't guarantee the order in which key-value pairs were stored or retrieved. This was true up until Python 3.6, where dictionaries started preserving insertion order as an implementation detail, and officially became ordered in Python 3.7+.\n",
        "\n",
        "  - A dictionary is implemented as a hash table, so elements are stored based on their hash values, not their insertion order.\n",
        "\n",
        "  - When you iterated over a dictionary, the order of keys could appear arbitrary (depending on hash positions in memory).\n",
        "\n",
        "# Since dictionaries use hashing, you retrieve values using keys, not positions.\n",
        "\n",
        "    user = {\"id\": 101, \"name\": \"Alice\"}\n",
        "    print(user[\"name\"])   # Direct key lookup\n",
        "\n",
        "\n"
      ],
      "metadata": {
        "id": "wGSjGbx1R73b"
      }
    },
    {
      "cell_type": "markdown",
      "source": [
        "20.  Explain the difference between a list and a dictionary in terms of data retrieval.\n",
        "  - Lists and dictionaries are both powerful tools in Python, but they serve very different purposes when it comes to data retrieval.\n",
        "\n",
        "# Lists → best when data is naturally sequential and you need index-based retrieval.\n",
        "\n",
        "    fruits = [\"apple\", \"banana\", \"cherry\"]\n",
        "    print(fruits[1])   # \"banana\" → retrieved by index\n",
        "\n",
        "# Dictionaries → best when data is mapped (key → value) and you need fast lookups by key.\n",
        "\n",
        "    fruit_colors = {\"apple\": \"red\", \"banana\": \"yellow\", \"cherry\": \"red\"}\n",
        "    print(fruit_colors[\"banana\"])   # \"yellow\" → retrieved by key\n",
        "\n"
      ],
      "metadata": {
        "id": "PRABIpKWS_GV"
      }
    },
    {
      "cell_type": "code",
      "source": [
        "#1.Write a code to create a string with your name and print it\n",
        "my_name = \"John Carter\"\n",
        "print(my_name)"
      ],
      "metadata": {
        "colab": {
          "base_uri": "https://localhost:8080/"
        },
        "id": "55jo_Gu9E2qx",
        "outputId": "24ab3741-ca73-49cc-8f78-c9b3841b662f"
      },
      "execution_count": null,
      "outputs": [
        {
          "output_type": "stream",
          "name": "stdout",
          "text": [
            "John Carter\n"
          ]
        }
      ]
    },
    {
      "cell_type": "code",
      "source": [
        "#2. Write a code to find the length of the string \"Hello World\".\n",
        "my_string = \"Hello World\"\n",
        "print(len(my_string))"
      ],
      "metadata": {
        "colab": {
          "base_uri": "https://localhost:8080/"
        },
        "id": "GT9VfteMFb6D",
        "outputId": "7a161dc9-4e75-446a-c844-c5ef638f03dd"
      },
      "execution_count": null,
      "outputs": [
        {
          "output_type": "stream",
          "name": "stdout",
          "text": [
            "11\n"
          ]
        }
      ]
    },
    {
      "cell_type": "code",
      "source": [
        "#3. Write a code to slice the first 3 characters from the string \"Python Programming\".\n",
        "my_string = \"Python Programming\"\n",
        "print(my_string[:3])"
      ],
      "metadata": {
        "colab": {
          "base_uri": "https://localhost:8080/"
        },
        "id": "DqXXKWo1FqeW",
        "outputId": "aa225f61-ae04-44f2-e8b8-3ac0d63ccf06"
      },
      "execution_count": null,
      "outputs": [
        {
          "output_type": "stream",
          "name": "stdout",
          "text": [
            "Pyt\n"
          ]
        }
      ]
    },
    {
      "cell_type": "code",
      "source": [
        "#4. Write a code to convert the string \"hello\" to uppercase.\n",
        "my_string = \"hello\"\n",
        "print(my_string.upper())"
      ],
      "metadata": {
        "colab": {
          "base_uri": "https://localhost:8080/"
        },
        "id": "EikFgNLEF5Sh",
        "outputId": "6619fc74-d951-4616-b8a8-49b004912a5d"
      },
      "execution_count": null,
      "outputs": [
        {
          "output_type": "stream",
          "name": "stdout",
          "text": [
            "HELLO\n"
          ]
        }
      ]
    },
    {
      "cell_type": "code",
      "source": [
        "#5. Write a code to replace the word \"apple\" with \"orange\" in the string \"I like apple\".\n",
        "my_string = \"I like apple\"\n",
        "new_string = my_string.replace(\"apple\", \"orange\")\n",
        "print(new_string)"
      ],
      "metadata": {
        "colab": {
          "base_uri": "https://localhost:8080/"
        },
        "id": "c61QDj8QGIPC",
        "outputId": "c60fc4fc-edc1-43a7-9d0d-8097b11e494c"
      },
      "execution_count": null,
      "outputs": [
        {
          "output_type": "stream",
          "name": "stdout",
          "text": [
            "I like orange\n"
          ]
        }
      ]
    },
    {
      "cell_type": "code",
      "source": [
        "#6. Write a code to create a list with numbers 1 to 5 and print it.\n",
        "my_list = [1,2,3,4,5]\n",
        "print(my_list)"
      ],
      "metadata": {
        "colab": {
          "base_uri": "https://localhost:8080/"
        },
        "id": "Qi_ufFWBHC36",
        "outputId": "26d3c025-d6fe-456d-ffe6-70cf83396b23"
      },
      "execution_count": null,
      "outputs": [
        {
          "output_type": "stream",
          "name": "stdout",
          "text": [
            "[1, 2, 3, 4, 5]\n"
          ]
        }
      ]
    },
    {
      "cell_type": "code",
      "source": [
        "#7. Write a code to append the number 10 to the list [1, 2, 3, 4].\n",
        "my_list = [1,2,3,4]\n",
        "my_list.append(10)\n",
        "print(my_list)"
      ],
      "metadata": {
        "colab": {
          "base_uri": "https://localhost:8080/"
        },
        "id": "SKLPU0RGHP2W",
        "outputId": "3865e741-7232-4f4d-bafa-339e31b2c4f4"
      },
      "execution_count": null,
      "outputs": [
        {
          "output_type": "stream",
          "name": "stdout",
          "text": [
            "[1, 2, 3, 4, 10]\n"
          ]
        }
      ]
    },
    {
      "cell_type": "code",
      "source": [
        "#8. Write a code to remove the number 3 from the list [1, 2, 3, 4, 5].\n",
        "my_list = [1,2,3,4,5]\n",
        "my_list.remove(3)\n",
        "print(my_list)"
      ],
      "metadata": {
        "colab": {
          "base_uri": "https://localhost:8080/"
        },
        "id": "NcOMmm33He2n",
        "outputId": "7535304f-248a-457e-d2f1-642d8b0e8df8"
      },
      "execution_count": null,
      "outputs": [
        {
          "output_type": "stream",
          "name": "stdout",
          "text": [
            "[1, 2, 4, 5]\n"
          ]
        }
      ]
    },
    {
      "cell_type": "code",
      "source": [
        "#9. Write a code to access the second element in the list ['a', 'b', 'c', 'd'].\n",
        "my_list = ['a', 'b', 'c', 'd']\n",
        "print(my_list[1])"
      ],
      "metadata": {
        "colab": {
          "base_uri": "https://localhost:8080/"
        },
        "id": "gj7OBxTZHrCj",
        "outputId": "efc992ab-0d7a-426e-d8bb-278580507939"
      },
      "execution_count": null,
      "outputs": [
        {
          "output_type": "stream",
          "name": "stdout",
          "text": [
            "b\n"
          ]
        }
      ]
    },
    {
      "cell_type": "code",
      "source": [
        "#10. Write a code to reverse the list [10, 20, 30, 40, 50].\n",
        "my_list = [10, 20, 30, 40, 50]\n",
        "my_list.reverse()\n",
        "print(my_list)"
      ],
      "metadata": {
        "colab": {
          "base_uri": "https://localhost:8080/"
        },
        "id": "8sUkp9I8H1kU",
        "outputId": "ec756473-88ea-4a36-810f-c2bb5fba2830"
      },
      "execution_count": null,
      "outputs": [
        {
          "output_type": "stream",
          "name": "stdout",
          "text": [
            "[50, 40, 30, 20, 10]\n"
          ]
        }
      ]
    },
    {
      "cell_type": "code",
      "source": [
        "#11. Write a code to create a tuple with the elements 100, 200, 300 and print it.\n",
        "my_tuple = (100,200,300)\n",
        "print(my_tuple)"
      ],
      "metadata": {
        "colab": {
          "base_uri": "https://localhost:8080/"
        },
        "id": "KtlMWnQeH-oi",
        "outputId": "472a3fc5-be3a-47d6-bc72-5b86e8224c73"
      },
      "execution_count": null,
      "outputs": [
        {
          "output_type": "stream",
          "name": "stdout",
          "text": [
            "(100, 200, 300)\n"
          ]
        }
      ]
    },
    {
      "cell_type": "code",
      "source": [
        "#12. Write a code to access the second-to-last element of the tuple ('red', 'green', 'blue', 'yellow').\n",
        "my_tuple = ('red', 'green', 'blue', 'yellow')\n",
        "print(my_tuple[-2])"
      ],
      "metadata": {
        "colab": {
          "base_uri": "https://localhost:8080/"
        },
        "id": "GQX17ESJIqao",
        "outputId": "d6194ef0-874b-4b08-fde6-598fb36ff3f2"
      },
      "execution_count": null,
      "outputs": [
        {
          "output_type": "stream",
          "name": "stdout",
          "text": [
            "blue\n"
          ]
        }
      ]
    },
    {
      "cell_type": "code",
      "source": [
        "#13. Write a code to find the minimum number in the tuple (10, 20, 5, 15).\n",
        "my_tuple = (10, 20, 5, 15)\n",
        "print(min(my_tuple))"
      ],
      "metadata": {
        "colab": {
          "base_uri": "https://localhost:8080/"
        },
        "id": "dJVDDJBGI-Ay",
        "outputId": "7e6e0966-7a13-4281-a105-1d1a90ec7343"
      },
      "execution_count": null,
      "outputs": [
        {
          "output_type": "stream",
          "name": "stdout",
          "text": [
            "5\n"
          ]
        }
      ]
    },
    {
      "cell_type": "code",
      "source": [
        "#14. Write a code to find the index of the element \"cat\" in the tuple ('dog', 'cat', 'rabbit').\n",
        "my_tuple = ('dog', 'cat', 'rabbit')\n",
        "print(my_tuple.index('cat'))"
      ],
      "metadata": {
        "colab": {
          "base_uri": "https://localhost:8080/"
        },
        "id": "sYkHxi6hJJ5L",
        "outputId": "95bb03de-78cc-447b-99ab-81d0d89d9c46"
      },
      "execution_count": null,
      "outputs": [
        {
          "output_type": "stream",
          "name": "stdout",
          "text": [
            "1\n"
          ]
        }
      ]
    },
    {
      "cell_type": "code",
      "source": [
        "#15. Write a code to create a tuple containing three different fruits and check if \"kiwi\" is in it.\n",
        "my_tuple = ('apple', 'banana', 'orange')\n",
        "if 'kiwi' in my_tuple:\n",
        "  print(\"kiwi is in the tuple\")\n",
        "else:\n",
        "  print(\"kiwi is not in the tuple\")"
      ],
      "metadata": {
        "colab": {
          "base_uri": "https://localhost:8080/"
        },
        "id": "q-DrFvH5JJ0j",
        "outputId": "aeca9272-9b16-4aa3-b72a-577c14da7db5"
      },
      "execution_count": null,
      "outputs": [
        {
          "output_type": "stream",
          "name": "stdout",
          "text": [
            "kiwi is not in the tuple\n"
          ]
        }
      ]
    },
    {
      "cell_type": "code",
      "source": [
        "#16. Write a code to create a set with the elements 'a', 'b', 'c' and print it.\n",
        "my_set = {'a','b','c'}\n",
        "print(my_set)"
      ],
      "metadata": {
        "colab": {
          "base_uri": "https://localhost:8080/"
        },
        "id": "g7ZYJubNJv3Y",
        "outputId": "06c46ad4-eaf8-4a44-880f-a48a7ca75c1b"
      },
      "execution_count": null,
      "outputs": [
        {
          "output_type": "stream",
          "name": "stdout",
          "text": [
            "{'a', 'b', 'c'}\n"
          ]
        }
      ]
    },
    {
      "cell_type": "code",
      "source": [
        "#17. Write a code to clear all elements from the set {1, 2, 3, 4, 5}.\n",
        "my_set = {1, 2, 3, 4, 5}\n",
        "my_set.clear()\n",
        "print(my_set)"
      ],
      "metadata": {
        "colab": {
          "base_uri": "https://localhost:8080/"
        },
        "id": "YYybNYE0KG1M",
        "outputId": "c75bd09d-416c-4f3f-a670-506e1e32f47f"
      },
      "execution_count": null,
      "outputs": [
        {
          "output_type": "stream",
          "name": "stdout",
          "text": [
            "set()\n"
          ]
        }
      ]
    },
    {
      "cell_type": "code",
      "source": [
        "#18. Write a code to remove the element 4 from the set {1, 2, 3, 4}.\n",
        "my_set = {1, 2, 3, 4}\n",
        "my_set.remove(4)\n",
        "print(my_set)"
      ],
      "metadata": {
        "colab": {
          "base_uri": "https://localhost:8080/"
        },
        "id": "b-qI4LCaKSm1",
        "outputId": "4da5e77c-f975-4201-f31c-aa16a3f6ba82"
      },
      "execution_count": null,
      "outputs": [
        {
          "output_type": "stream",
          "name": "stdout",
          "text": [
            "{1, 2, 3}\n"
          ]
        }
      ]
    },
    {
      "cell_type": "code",
      "source": [
        "#19. Write a code to find the union of two sets {1, 2, 3} and {3, 4, 5}.\n",
        "my_set1 = {1, 2, 3}\n",
        "my_set2 = {3, 4, 5}\n",
        "print(my_set1.union(my_set2))\n"
      ],
      "metadata": {
        "colab": {
          "base_uri": "https://localhost:8080/"
        },
        "id": "F5dkzmC-KbtY",
        "outputId": "4037a76b-2ae6-4f95-900b-0f560c7c97c8"
      },
      "execution_count": null,
      "outputs": [
        {
          "output_type": "stream",
          "name": "stdout",
          "text": [
            "{1, 2, 3, 4, 5}\n"
          ]
        }
      ]
    },
    {
      "cell_type": "code",
      "source": [
        "#20.  Write a code to find the intersection of two sets {1, 2, 3} and {2, 3, 4}.\n",
        "my_set1 = {1,2,3,}\n",
        "my_set2 = {3,4,5}\n",
        "print(my_set1.intersection(my_set2))"
      ],
      "metadata": {
        "colab": {
          "base_uri": "https://localhost:8080/"
        },
        "id": "ZHjYSBGEKo9C",
        "outputId": "5ab5c65e-8a32-4548-dd6b-cf03a2cf02c3"
      },
      "execution_count": null,
      "outputs": [
        {
          "output_type": "stream",
          "name": "stdout",
          "text": [
            "{3}\n"
          ]
        }
      ]
    },
    {
      "cell_type": "code",
      "source": [
        "#21. Write a code to create a dictionary with the keys \"name\", \"age\", and \"city\", and print it.\n",
        "my_dict = {\"name\": \"John\", \"age\": 23, \"city\": \"Delhi\"}\n",
        "print(my_dict)"
      ],
      "metadata": {
        "colab": {
          "base_uri": "https://localhost:8080/"
        },
        "id": "bVNhcBePLLaw",
        "outputId": "ae134376-26ea-4cbb-f0f2-e99b7ad3fb1f"
      },
      "execution_count": null,
      "outputs": [
        {
          "output_type": "stream",
          "name": "stdout",
          "text": [
            "{'name': 'John', 'age': 23, 'city': 'Delhi'}\n"
          ]
        }
      ]
    },
    {
      "cell_type": "code",
      "source": [
        "#22. Write a code to add a new key-value pair \"country\": \"USA\" to the dictionary {'name': 'John', 'age': 25}.\n",
        "my_dict = {'name': 'John', 'age': 25}\n",
        "my_dict[\"country\"] = \"USA\"\n",
        "print(my_dict)\n"
      ],
      "metadata": {
        "colab": {
          "base_uri": "https://localhost:8080/"
        },
        "id": "H0EqgXyOLg6i",
        "outputId": "259fa65e-2368-4547-abe9-bc2baca72fa3"
      },
      "execution_count": null,
      "outputs": [
        {
          "output_type": "stream",
          "name": "stdout",
          "text": [
            "{'name': 'John', 'age': 25, 'country': 'USA'}\n"
          ]
        }
      ]
    },
    {
      "cell_type": "code",
      "source": [
        "#23. Write a code to access the value associated with the key \"name\" in the dictionary {'name': 'Alice', 'age': 30}.\n",
        "my_dict = {'name': 'Alice', 'age': 30}\n",
        "print(my_dict[\"name\"])"
      ],
      "metadata": {
        "colab": {
          "base_uri": "https://localhost:8080/"
        },
        "id": "QexxfGXhL0a-",
        "outputId": "b806565d-7b7f-4711-8f6e-690ef4a59132"
      },
      "execution_count": null,
      "outputs": [
        {
          "output_type": "stream",
          "name": "stdout",
          "text": [
            "Alice\n"
          ]
        }
      ]
    },
    {
      "cell_type": "code",
      "source": [
        "#24. Write a code to remove the key \"age\" from the dictionary {'name': 'Bob', 'age': 22, 'city': 'New York'}.\n",
        "my_dict = {'name': 'Bob', 'age': 22, 'city': 'New York'}\n",
        "del my_dict[\"age\"]\n",
        "print(my_dict)"
      ],
      "metadata": {
        "colab": {
          "base_uri": "https://localhost:8080/"
        },
        "id": "jyD5KpqsMMWM",
        "outputId": "7c4da52c-d73b-4264-f624-ad537f02cf55"
      },
      "execution_count": null,
      "outputs": [
        {
          "output_type": "stream",
          "name": "stdout",
          "text": [
            "{'name': 'Bob', 'city': 'New York'}\n"
          ]
        }
      ]
    },
    {
      "cell_type": "code",
      "source": [
        "#25. Write a code to check if the key \"city\" exists in the dictionary {'name': 'Alice', 'city': 'Paris'}.\n",
        "my_dict = {'name': 'Alice', 'city': 'Paris'}\n",
        "if \"city\" in my_dict:\n",
        "  print(\"city is in the dictionary\")\n",
        "else:\n",
        "  print(\"city is not in the dictionary\")"
      ],
      "metadata": {
        "colab": {
          "base_uri": "https://localhost:8080/"
        },
        "id": "jGwafXXGMXZA",
        "outputId": "b89bb424-8c4f-4ebf-f542-6a14cafd22f5"
      },
      "execution_count": null,
      "outputs": [
        {
          "output_type": "stream",
          "name": "stdout",
          "text": [
            "city is in the dictionary\n"
          ]
        }
      ]
    },
    {
      "cell_type": "code",
      "source": [
        "#26. Write a code to create a list, a tuple, and a dictionary, and print them all.\n",
        "my_list = [1,2,3,4]\n",
        "my_tuple = (1,2,3,4)\n",
        "my_dict = {\"name\": \"Jhon\", \"age\": 23, \"city\": \"Delhi\"}\n",
        "print(my_list)\n",
        "print(my_tuple)\n",
        "print(my_dict)\n"
      ],
      "metadata": {
        "colab": {
          "base_uri": "https://localhost:8080/"
        },
        "id": "tVrlHYoeMmF_",
        "outputId": "c507ac43-49fe-4e15-e27c-a611870fbd8a"
      },
      "execution_count": null,
      "outputs": [
        {
          "output_type": "stream",
          "name": "stdout",
          "text": [
            "[1, 2, 3, 4]\n",
            "(1, 2, 3, 4)\n",
            "{'name': 'Jhon', 'age': 23, 'city': 'Delhi'}\n"
          ]
        }
      ]
    },
    {
      "cell_type": "code",
      "source": [
        "#27. Write a code to create a list of 5 random numbers between 1 and 100, sort it in ascending order, and print the result.(replaced)\n",
        "import random\n",
        "my_list = [random.randint(1,100) for i in range(5)]\n",
        "my_list.sort()\n",
        "print(my_list)\n"
      ],
      "metadata": {
        "colab": {
          "base_uri": "https://localhost:8080/"
        },
        "id": "jztPO8lzNMYx",
        "outputId": "17c2d614-d13d-423a-a5e7-ad236e98ae19"
      },
      "execution_count": null,
      "outputs": [
        {
          "output_type": "stream",
          "name": "stdout",
          "text": [
            "[8, 12, 24, 51, 55]\n"
          ]
        }
      ]
    },
    {
      "cell_type": "code",
      "source": [
        "#28. Write a code to create a list with strings and print the element at the third index.\n",
        "my_list = [\"apple\", \"banana\", \"orange\", \"mango\"]\n",
        "print(my_list[2])"
      ],
      "metadata": {
        "colab": {
          "base_uri": "https://localhost:8080/"
        },
        "id": "wWaOnbNlN0W4",
        "outputId": "06c3d7ce-200d-4263-a1e6-a9b8b3b5f58f"
      },
      "execution_count": null,
      "outputs": [
        {
          "output_type": "stream",
          "name": "stdout",
          "text": [
            "orange\n"
          ]
        }
      ]
    },
    {
      "cell_type": "code",
      "source": [
        "#29. Write a code to combine two dictionaries into one and print the result.\n",
        "my_dict1 = {'name': 'Alice', 'age': 30}\n",
        "my_dict2 = {'city': 'Paris', 'country': 'France'}\n",
        "my_dict1.update(my_dict2)\n",
        "print(my_dict1)"
      ],
      "metadata": {
        "colab": {
          "base_uri": "https://localhost:8080/"
        },
        "id": "b0eYxrZnN_i_",
        "outputId": "f4615d29-26d7-4a96-ac60-c3fbe19e5d04"
      },
      "execution_count": null,
      "outputs": [
        {
          "output_type": "stream",
          "name": "stdout",
          "text": [
            "{'name': 'Alice', 'age': 30, 'city': 'Paris', 'country': 'France'}\n"
          ]
        }
      ]
    },
    {
      "cell_type": "code",
      "source": [
        "#30. Write a code to convert a list of strings into a set.\n",
        "my_list = [\"apple\", \"banana\", \"orange\", \"mango\"]\n",
        "my_set = set(my_list)\n",
        "print(my_set)"
      ],
      "metadata": {
        "colab": {
          "base_uri": "https://localhost:8080/"
        },
        "id": "V4ZBhWllOJD2",
        "outputId": "cbc6d203-4d54-4de1-d02a-cb9fa6c61256"
      },
      "execution_count": null,
      "outputs": [
        {
          "output_type": "stream",
          "name": "stdout",
          "text": [
            "{'orange', 'apple', 'banana', 'mango'}\n"
          ]
        }
      ]
    }
  ]
}